{
 "cells": [
  {
   "cell_type": "markdown",
   "id": "e19d47d3",
   "metadata": {},
   "source": [
    "## Quora_Question_Pair_Similarity"
   ]
  },
  {
   "cell_type": "markdown",
   "id": "1ae1682f",
   "metadata": {},
   "source": [
    "FuzzyWuzzy is a python package that computes a score for approximate question similarity.\n",
    "we evaluate the usefulness of FuzzyWuzzy for the Quora Question Similarity Problem in this Notebook."
   ]
  },
  {
   "cell_type": "markdown",
   "id": "cea6fc06",
   "metadata": {},
   "source": [
    "FuzzyWuzzy takes two strings that defines a ratio method and outputs scores from 0 to 100. 100 is a perfect match and 0 is not a total match."
   ]
  },
  {
   "cell_type": "code",
   "execution_count": 1,
   "id": "7f7a7258",
   "metadata": {},
   "outputs": [],
   "source": [
    "import pandas as pd\n",
    "import numpy as np\n",
    "import matplotlib.pyplot as plt\n",
    "from fuzzywuzzy import fuzz\n",
    "import warnings\n",
    "warnings.filterwarnings('ignore')"
   ]
  },
  {
   "cell_type": "code",
   "execution_count": 2,
   "id": "153b9036",
   "metadata": {},
   "outputs": [
    {
     "data": {
      "text/html": [
       "<div>\n",
       "<style scoped>\n",
       "    .dataframe tbody tr th:only-of-type {\n",
       "        vertical-align: middle;\n",
       "    }\n",
       "\n",
       "    .dataframe tbody tr th {\n",
       "        vertical-align: top;\n",
       "    }\n",
       "\n",
       "    .dataframe thead th {\n",
       "        text-align: right;\n",
       "    }\n",
       "</style>\n",
       "<table border=\"1\" class=\"dataframe\">\n",
       "  <thead>\n",
       "    <tr style=\"text-align: right;\">\n",
       "      <th></th>\n",
       "      <th>id</th>\n",
       "      <th>qid1</th>\n",
       "      <th>qid2</th>\n",
       "      <th>question1</th>\n",
       "      <th>question2</th>\n",
       "      <th>is_duplicate</th>\n",
       "    </tr>\n",
       "  </thead>\n",
       "  <tbody>\n",
       "    <tr>\n",
       "      <th>0</th>\n",
       "      <td>0</td>\n",
       "      <td>1</td>\n",
       "      <td>2</td>\n",
       "      <td>What is the step by step guide to invest in sh...</td>\n",
       "      <td>What is the step by step guide to invest in sh...</td>\n",
       "      <td>0</td>\n",
       "    </tr>\n",
       "    <tr>\n",
       "      <th>1</th>\n",
       "      <td>1</td>\n",
       "      <td>3</td>\n",
       "      <td>4</td>\n",
       "      <td>What is the story of Kohinoor (Koh-i-Noor) Dia...</td>\n",
       "      <td>What would happen if the Indian government sto...</td>\n",
       "      <td>0</td>\n",
       "    </tr>\n",
       "  </tbody>\n",
       "</table>\n",
       "</div>"
      ],
      "text/plain": [
       "   id  qid1  qid2                                          question1  \\\n",
       "0   0     1     2  What is the step by step guide to invest in sh...   \n",
       "1   1     3     4  What is the story of Kohinoor (Koh-i-Noor) Dia...   \n",
       "\n",
       "                                           question2  is_duplicate  \n",
       "0  What is the step by step guide to invest in sh...             0  \n",
       "1  What would happen if the Indian government sto...             0  "
      ]
     },
     "execution_count": 2,
     "metadata": {},
     "output_type": "execute_result"
    }
   ],
   "source": [
    "data = pd.read_csv(\"A:\\Datasets_ML\\quora pair\\\\train.csv\")\n",
    "data.head(2)"
   ]
  },
  {
   "cell_type": "code",
   "execution_count": 3,
   "id": "7a83886c",
   "metadata": {},
   "outputs": [
    {
     "data": {
      "text/plain": [
       "((404290, 6),\n",
       " Index(['id', 'qid1', 'qid2', 'question1', 'question2', 'is_duplicate'], dtype='object'))"
      ]
     },
     "execution_count": 3,
     "metadata": {},
     "output_type": "execute_result"
    }
   ],
   "source": [
    "data.shape, data.columns"
   ]
  },
  {
   "cell_type": "code",
   "execution_count": 4,
   "id": "09cdfea2",
   "metadata": {},
   "outputs": [
    {
     "name": "stdout",
     "output_type": "stream",
     "text": [
      "<class 'pandas.core.frame.DataFrame'>\n",
      "RangeIndex: 404290 entries, 0 to 404289\n",
      "Data columns (total 6 columns):\n",
      " #   Column        Non-Null Count   Dtype \n",
      "---  ------        --------------   ----- \n",
      " 0   id            404290 non-null  int64 \n",
      " 1   qid1          404290 non-null  int64 \n",
      " 2   qid2          404290 non-null  int64 \n",
      " 3   question1     404289 non-null  object\n",
      " 4   question2     404288 non-null  object\n",
      " 5   is_duplicate  404290 non-null  int64 \n",
      "dtypes: int64(4), object(2)\n",
      "memory usage: 18.5+ MB\n"
     ]
    },
    {
     "data": {
      "text/plain": [
       "(                  id           qid1           qid2   is_duplicate\n",
       " count  404290.000000  404290.000000  404290.000000  404290.000000\n",
       " mean   202144.500000  217243.942418  220955.655337       0.369198\n",
       " std    116708.614502  157751.700002  159903.182629       0.482588\n",
       " min         0.000000       1.000000       2.000000       0.000000\n",
       " 25%    101072.250000   74437.500000   74727.000000       0.000000\n",
       " 50%    202144.500000  192182.000000  197052.000000       0.000000\n",
       " 75%    303216.750000  346573.500000  354692.500000       1.000000\n",
       " max    404289.000000  537932.000000  537933.000000       1.000000,\n",
       " None)"
      ]
     },
     "execution_count": 4,
     "metadata": {},
     "output_type": "execute_result"
    }
   ],
   "source": [
    "data.describe(), data.info()"
   ]
  },
  {
   "cell_type": "code",
   "execution_count": 5,
   "id": "1554a69b",
   "metadata": {},
   "outputs": [
    {
     "data": {
      "text/plain": [
       "id              0\n",
       "qid1            0\n",
       "qid2            0\n",
       "question1       1\n",
       "question2       2\n",
       "is_duplicate    0\n",
       "dtype: int64"
      ]
     },
     "execution_count": 5,
     "metadata": {},
     "output_type": "execute_result"
    }
   ],
   "source": [
    "data.isnull().sum()"
   ]
  },
  {
   "cell_type": "code",
   "execution_count": 6,
   "id": "c363dab1",
   "metadata": {},
   "outputs": [],
   "source": [
    "def remove_null(n1, n2):\n",
    "    try:\n",
    "        return fuzz.ratio(n1, n2)\n",
    "    except:\n",
    "        return 0"
   ]
  },
  {
   "cell_type": "code",
   "execution_count": 7,
   "id": "079ccd69",
   "metadata": {},
   "outputs": [
    {
     "data": {
      "text/html": [
       "<div>\n",
       "<style scoped>\n",
       "    .dataframe tbody tr th:only-of-type {\n",
       "        vertical-align: middle;\n",
       "    }\n",
       "\n",
       "    .dataframe tbody tr th {\n",
       "        vertical-align: top;\n",
       "    }\n",
       "\n",
       "    .dataframe thead th {\n",
       "        text-align: right;\n",
       "    }\n",
       "</style>\n",
       "<table border=\"1\" class=\"dataframe\">\n",
       "  <thead>\n",
       "    <tr style=\"text-align: right;\">\n",
       "      <th></th>\n",
       "      <th>id</th>\n",
       "      <th>qid1</th>\n",
       "      <th>qid2</th>\n",
       "      <th>question1</th>\n",
       "      <th>question2</th>\n",
       "      <th>is_duplicate</th>\n",
       "      <th>fuzz_score</th>\n",
       "    </tr>\n",
       "  </thead>\n",
       "  <tbody>\n",
       "    <tr>\n",
       "      <th>0</th>\n",
       "      <td>0</td>\n",
       "      <td>1</td>\n",
       "      <td>2</td>\n",
       "      <td>What is the step by step guide to invest in sh...</td>\n",
       "      <td>What is the step by step guide to invest in sh...</td>\n",
       "      <td>0</td>\n",
       "      <td>93</td>\n",
       "    </tr>\n",
       "    <tr>\n",
       "      <th>1</th>\n",
       "      <td>1</td>\n",
       "      <td>3</td>\n",
       "      <td>4</td>\n",
       "      <td>What is the story of Kohinoor (Koh-i-Noor) Dia...</td>\n",
       "      <td>What would happen if the Indian government sto...</td>\n",
       "      <td>0</td>\n",
       "      <td>65</td>\n",
       "    </tr>\n",
       "  </tbody>\n",
       "</table>\n",
       "</div>"
      ],
      "text/plain": [
       "   id  qid1  qid2                                          question1  \\\n",
       "0   0     1     2  What is the step by step guide to invest in sh...   \n",
       "1   1     3     4  What is the story of Kohinoor (Koh-i-Noor) Dia...   \n",
       "\n",
       "                                           question2  is_duplicate  fuzz_score  \n",
       "0  What is the step by step guide to invest in sh...             0          93  \n",
       "1  What would happen if the Indian government sto...             0          65  "
      ]
     },
     "execution_count": 7,
     "metadata": {},
     "output_type": "execute_result"
    }
   ],
   "source": [
    "data['fuzz_score'] = data.apply(lambda x: remove_null(x['question1'], x['question2']), axis=1)\n",
    "data.head(2)"
   ]
  },
  {
   "cell_type": "code",
   "execution_count": 8,
   "id": "d2b76b9e",
   "metadata": {},
   "outputs": [
    {
     "data": {
      "text/plain": [
       "array([0, 1], dtype=int64)"
      ]
     },
     "execution_count": 8,
     "metadata": {},
     "output_type": "execute_result"
    }
   ],
   "source": [
    "data['is_duplicate'].unique()"
   ]
  },
  {
   "cell_type": "code",
   "execution_count": 9,
   "id": "faf86dd7",
   "metadata": {},
   "outputs": [],
   "source": [
    "zero_s = list(data[data['is_duplicate'] == 0]['fuzz_score'])\n",
    "one_s = list(data[data['is_duplicate'] == 1]['fuzz_score'])"
   ]
  },
  {
   "cell_type": "code",
   "execution_count": 10,
   "id": "9d2f47fd",
   "metadata": {},
   "outputs": [
    {
     "data": {
      "image/png": "[encoded data removed]",
      "text/plain": [
       "<Figure size 432x288 with 1 Axes>"
      ]
     },
     "metadata": {
      "needs_background": "light"
     },
     "output_type": "display_data"
    }
   ],
   "source": [
    "#To check correlation between fuzz score and duplicate status\n",
    "plt.boxplot([zero_s, one_s])\n",
    "plt.xlabel('is_duplicate')\n",
    "plt.ylabel('fuzz_score')\n",
    "plt.title(\"Fuzz Score Vs Is duplicate\")\n",
    "plt.xticks([1, 2], [0, 1])\n",
    "plt.show()"
   ]
  },
  {
   "cell_type": "code",
   "execution_count": 11,
   "id": "dc83d271",
   "metadata": {},
   "outputs": [],
   "source": [
    "no_duplicate_= data[(data['is_duplicate'] == 0) & (data['fuzz_score']>95)]\n"
   ]
  },
  {
   "cell_type": "code",
   "execution_count": 12,
   "id": "46b1f1c2",
   "metadata": {},
   "outputs": [],
   "source": [
    "p = no_duplicate_.shape[0]"
   ]
  },
  {
   "cell_type": "code",
   "execution_count": 13,
   "id": "7d4b6d72",
   "metadata": {},
   "outputs": [
    {
     "name": "stdout",
     "output_type": "stream",
     "text": [
      "The number of non-duplicate question pairs with a high fuzz score is : 3482\n"
     ]
    }
   ],
   "source": [
    "print(\"The number of non-duplicate question pairs with a high fuzz score is :\", p)"
   ]
  },
  {
   "cell_type": "code",
   "execution_count": 14,
   "id": "91a598af",
   "metadata": {},
   "outputs": [
    {
     "data": {
      "text/html": [
       "<div>\n",
       "<style scoped>\n",
       "    .dataframe tbody tr th:only-of-type {\n",
       "        vertical-align: middle;\n",
       "    }\n",
       "\n",
       "    .dataframe tbody tr th {\n",
       "        vertical-align: top;\n",
       "    }\n",
       "\n",
       "    .dataframe thead th {\n",
       "        text-align: right;\n",
       "    }\n",
       "</style>\n",
       "<table border=\"1\" class=\"dataframe\">\n",
       "  <thead>\n",
       "    <tr style=\"text-align: right;\">\n",
       "      <th></th>\n",
       "      <th>id</th>\n",
       "      <th>qid1</th>\n",
       "      <th>qid2</th>\n",
       "      <th>question1</th>\n",
       "      <th>question2</th>\n",
       "      <th>is_duplicate</th>\n",
       "      <th>fuzz_score</th>\n",
       "    </tr>\n",
       "  </thead>\n",
       "  <tbody>\n",
       "    <tr>\n",
       "      <th>14</th>\n",
       "      <td>14</td>\n",
       "      <td>29</td>\n",
       "      <td>30</td>\n",
       "      <td>What are the laws to change your status from a...</td>\n",
       "      <td>What are the laws to change your status from a...</td>\n",
       "      <td>0</td>\n",
       "      <td>96</td>\n",
       "    </tr>\n",
       "    <tr>\n",
       "      <th>41</th>\n",
       "      <td>41</td>\n",
       "      <td>83</td>\n",
       "      <td>84</td>\n",
       "      <td>When can I expect my Cognizant confirmation mail?</td>\n",
       "      <td>When can I expect Cognizant confirmation mail?</td>\n",
       "      <td>0</td>\n",
       "      <td>97</td>\n",
       "    </tr>\n",
       "    <tr>\n",
       "      <th>42</th>\n",
       "      <td>42</td>\n",
       "      <td>85</td>\n",
       "      <td>86</td>\n",
       "      <td>Can I make 50,000 a month by day trading?</td>\n",
       "      <td>Can I make 30,000 a month by day trading?</td>\n",
       "      <td>0</td>\n",
       "      <td>98</td>\n",
       "    </tr>\n",
       "    <tr>\n",
       "      <th>89</th>\n",
       "      <td>89</td>\n",
       "      <td>179</td>\n",
       "      <td>180</td>\n",
       "      <td>What is your review of The Next Warrior: Provi...</td>\n",
       "      <td>What is your review of The Next Warrior: Provi...</td>\n",
       "      <td>0</td>\n",
       "      <td>98</td>\n",
       "    </tr>\n",
       "    <tr>\n",
       "      <th>145</th>\n",
       "      <td>145</td>\n",
       "      <td>291</td>\n",
       "      <td>292</td>\n",
       "      <td>Does Fab currently offer new employees stock o...</td>\n",
       "      <td>Does Uber currently offer new employees stock ...</td>\n",
       "      <td>0</td>\n",
       "      <td>96</td>\n",
       "    </tr>\n",
       "    <tr>\n",
       "      <th>298</th>\n",
       "      <td>298</td>\n",
       "      <td>596</td>\n",
       "      <td>597</td>\n",
       "      <td>On what online platforms can I post ads for be...</td>\n",
       "      <td>What online platforms can I post ads for beer ...</td>\n",
       "      <td>0</td>\n",
       "      <td>96</td>\n",
       "    </tr>\n",
       "    <tr>\n",
       "      <th>496</th>\n",
       "      <td>496</td>\n",
       "      <td>990</td>\n",
       "      <td>991</td>\n",
       "      <td>Which are the major highways in California and...</td>\n",
       "      <td>Which are the major highways in California and...</td>\n",
       "      <td>0</td>\n",
       "      <td>96</td>\n",
       "    </tr>\n",
       "    <tr>\n",
       "      <th>585</th>\n",
       "      <td>585</td>\n",
       "      <td>1168</td>\n",
       "      <td>1169</td>\n",
       "      <td>Can you play Asian Playstation 4 games on a Eu...</td>\n",
       "      <td>Can you play Asian Playstation 4 games on a Eu...</td>\n",
       "      <td>0</td>\n",
       "      <td>98</td>\n",
       "    </tr>\n",
       "    <tr>\n",
       "      <th>712</th>\n",
       "      <td>712</td>\n",
       "      <td>1420</td>\n",
       "      <td>1421</td>\n",
       "      <td>What behavioral adaptations do pandas have?</td>\n",
       "      <td>What behavioral adaptations do red pandas have?</td>\n",
       "      <td>0</td>\n",
       "      <td>96</td>\n",
       "    </tr>\n",
       "    <tr>\n",
       "      <th>976</th>\n",
       "      <td>976</td>\n",
       "      <td>1947</td>\n",
       "      <td>1948</td>\n",
       "      <td>What are the main imports and exports of Venez...</td>\n",
       "      <td>What are the main imports and exports of Venez...</td>\n",
       "      <td>0</td>\n",
       "      <td>96</td>\n",
       "    </tr>\n",
       "  </tbody>\n",
       "</table>\n",
       "</div>"
      ],
      "text/plain": [
       "      id  qid1  qid2                                          question1  \\\n",
       "14    14    29    30  What are the laws to change your status from a...   \n",
       "41    41    83    84  When can I expect my Cognizant confirmation mail?   \n",
       "42    42    85    86          Can I make 50,000 a month by day trading?   \n",
       "89    89   179   180  What is your review of The Next Warrior: Provi...   \n",
       "145  145   291   292  Does Fab currently offer new employees stock o...   \n",
       "298  298   596   597  On what online platforms can I post ads for be...   \n",
       "496  496   990   991  Which are the major highways in California and...   \n",
       "585  585  1168  1169  Can you play Asian Playstation 4 games on a Eu...   \n",
       "712  712  1420  1421        What behavioral adaptations do pandas have?   \n",
       "976  976  1947  1948  What are the main imports and exports of Venez...   \n",
       "\n",
       "                                             question2  is_duplicate  \\\n",
       "14   What are the laws to change your status from a...             0   \n",
       "41      When can I expect Cognizant confirmation mail?             0   \n",
       "42           Can I make 30,000 a month by day trading?             0   \n",
       "89   What is your review of The Next Warrior: Provi...             0   \n",
       "145  Does Uber currently offer new employees stock ...             0   \n",
       "298  What online platforms can I post ads for beer ...             0   \n",
       "496  Which are the major highways in California and...             0   \n",
       "585  Can you play Asian Playstation 4 games on a Eu...             0   \n",
       "712    What behavioral adaptations do red pandas have?             0   \n",
       "976  What are the main imports and exports of Venez...             0   \n",
       "\n",
       "     fuzz_score  \n",
       "14           96  \n",
       "41           97  \n",
       "42           98  \n",
       "89           98  \n",
       "145          96  \n",
       "298          96  \n",
       "496          96  \n",
       "585          98  \n",
       "712          96  \n",
       "976          96  "
      ]
     },
     "execution_count": 14,
     "metadata": {},
     "output_type": "execute_result"
    }
   ],
   "source": [
    "no_duplicate_.head(10) #Top 10 rows"
   ]
  },
  {
   "cell_type": "markdown",
   "id": "46f10089",
   "metadata": {},
   "source": [
    "Fuzzywuzzy is a tool that performs simple text-based analysis. It does not have the ability to understand language. The output shows some correlation with the desired label, but it does not capture the purpose of the question, thus it is not sufficient for this Kaggle problem (and perhaps not even useful as a feature)."
   ]
  }
 ],
 "metadata": {
  "kernelspec": {
   "display_name": "Python 3 (ipykernel)",
   "language": "python",
   "name": "python3"
  },
  "language_info": {
   "codemirror_mode": {
    "name": "ipython",
    "version": 3
   },
   "file_extension": ".py",
   "mimetype": "text/x-python",
   "name": "python",
   "nbconvert_exporter": "python",
   "pygments_lexer": "ipython3",
   "version": "3.9.7"
  }
 },
 "nbformat": 4,
 "nbformat_minor": 5
}
